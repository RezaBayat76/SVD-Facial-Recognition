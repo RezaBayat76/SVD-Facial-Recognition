{
 "cells": [
  {
   "cell_type": "code",
   "execution_count": 1,
   "metadata": {
    "collapsed": true
   },
   "outputs": [],
   "source": [
    "import os\n",
    "import numpy as np\n",
    "from PIL import Image"
   ]
  },
  {
   "cell_type": "code",
   "execution_count": 2,
   "metadata": {
    "collapsed": true
   },
   "outputs": [],
   "source": [
    "# Constants\n",
    "PREFIX_IMAGE_PATH = '../../yalefaces/images/';\n",
    "NUM_M = 165 # Images from a group of I=15 individuals\n",
    "NUM_I = 15 # Number of individuals\n",
    "NUM_D = 11 # Each individual took D=11 different pictures changing their facial expression for each of the I images."
   ]
  },
  {
   "cell_type": "code",
   "execution_count": 3,
   "metadata": {},
   "outputs": [],
   "source": [
    "# The First step: Read images.\n",
    "# The second step: Find the average matrix relative to our data base\n",
    "image_names = [image for image in os.listdir(PREFIX_IMAGE_PATH)]\n",
    "\n",
    "# Assuming all images are the same size, get dimensions of first image\n",
    "w, h = Image.open(PREFIX_IMAGE_PATH + image_names[0]).size\n",
    "N = len(image_names)\n",
    "\n",
    "# Create a numpy array of floats to store the average (assume RGB images)\n",
    "average_face = np.zeros((h, w), np.float)\n",
    "\n",
    "# Build up average pixel intensities, casting each image as an array of floats\n",
    "index = 0\n",
    "images = {}\n",
    "for image_name in image_names:\n",
    "    img = np.array(Image.open(PREFIX_IMAGE_PATH + image_name), dtype=np.float)\n",
    "    average_face = average_face + img/N\n",
    "    images[image_name] = img\n",
    "\n",
    "# Round values in array and cast as 8-bit integer\n",
    "average_face = np.array(np.round(average_face), dtype=np.uint8)"
   ]
  },
  {
   "cell_type": "code",
   "execution_count": 4,
   "metadata": {},
   "outputs": [],
   "source": [
    "# Yhe third step: Subtract the average face from each of the existing faces in our grayscale data base\n",
    "subtracted_images = {}\n",
    "for image_name in image_names:\n",
    "    subtracted_images[image_name] = images[image_name] - average_face"
   ]
  },
  {
   "cell_type": "code",
   "execution_count": 5,
   "metadata": {},
   "outputs": [],
   "source": [
    "# The fourth step: Take each of the subtraced images and find its transpose.\n",
    "transposed_images = {}\n",
    "for image_name in image_names:\n",
    "    transposed_images[image_name] = subtracted_images[image_name].transpose()"
   ]
  },
  {
   "cell_type": "code",
   "execution_count": 6,
   "metadata": {},
   "outputs": [],
   "source": [
    "# The fifth step: Find the covariant image using the two previous steps\n",
    "covariant_image = np.zeros((h, h), np.float)   \n",
    "for image_name in image_names:\n",
    "    mult_img = np.matmul(subtracted_images[image_name], transposed_images[image_name])\n",
    "    covariant_image = covariant_image + mult_img/N"
   ]
  },
  {
   "cell_type": "code",
   "execution_count": 7,
   "metadata": {},
   "outputs": [],
   "source": [
    "# The sixth step: Finding the eigen values and eigen vectors relative to the data base images. \n",
    "eigenvalues, eigenvectors = np.linalg.eig(np.array(covariant_image))\n",
    "eigenfaces = {}\n",
    "\n",
    "# Select 6 eigen vectors\n",
    "for i in range (0, 6):\n",
    "    index = 0\n",
    "    tmp = np.zeros((h, w), np.float)\n",
    "    for image_name in images:\n",
    "        tmp = tmp + eigenvectors[i][index] * images[image_name]\n",
    "        index = index + 1\n",
    "    eigenfaces[i] = tmp"
   ]
  }
 ],
 "metadata": {
  "kernelspec": {
   "display_name": "Python 3",
   "language": "python",
   "name": "python3"
  },
  "language_info": {
   "codemirror_mode": {
    "name": "ipython",
    "version": 3
   },
   "file_extension": ".py",
   "mimetype": "text/x-python",
   "name": "python",
   "nbconvert_exporter": "python",
   "pygments_lexer": "ipython3",
   "version": "3.6.3"
  }
 },
 "nbformat": 4,
 "nbformat_minor": 2
}
