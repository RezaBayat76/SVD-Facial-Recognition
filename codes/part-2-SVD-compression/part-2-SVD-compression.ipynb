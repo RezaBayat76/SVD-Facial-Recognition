{
 "cells": [
  {
   "cell_type": "code",
   "execution_count": 8,
   "metadata": {
    "collapsed": true
   },
   "outputs": [],
   "source": [
    "import os\n",
    "import numpy as np\n",
    "from PIL import Image\n",
    "import matplotlib.pyplot as plt\n",
    "%matplotlib inline"
   ]
  },
  {
   "cell_type": "code",
   "execution_count": 9,
   "metadata": {
    "collapsed": true
   },
   "outputs": [],
   "source": [
    "# Constants\n",
    "PREFIX_IMAGE_PATH = '../../yalefaces/images/';\n",
    "NUM_M = 165 # Images from a group of I=15 individuals\n",
    "NUM_I = 15 # Number of individuals\n",
    "NUM_D = 11 # Each individual took D=11 different pictures changing their facial expression for each of the I images."
   ]
  },
  {
   "cell_type": "code",
   "execution_count": 32,
   "metadata": {},
   "outputs": [],
   "source": [
    "# The first step: Read images.\n",
    "image_names = [image for image in os.listdir(PREFIX_IMAGE_PATH)]\n",
    "images = {}\n",
    "for image_name in image_names:\n",
    "    images[image_name] = Image.open(PREFIX_IMAGE_PATH + image_name)"
   ]
  },
  {
   "cell_type": "code",
   "execution_count": 50,
   "metadata": {},
   "outputs": [],
   "source": [
    "for image_name in image_names:\n",
    "    U, S, Vt = np.linalg.svd(images[image_name]) #single value decomposition\n",
    "    for i in range(60, 121, 60):\n",
    "        cmpimg = np.matrix(U[:, :i]) * np.diag(S[:i]) * np.matrix(Vt[:i,:])\n",
    "        result = Image.fromarray((cmpimg ).astype(np.uint8))\n",
    "        result.save(\"../../results/part-2-SVD-compression/\" + image_name  + \"-compressed-\" + str(i) + \".png\")"
   ]
  }
 ],
 "metadata": {
  "kernelspec": {
   "display_name": "Python 3",
   "language": "python",
   "name": "python3"
  },
  "language_info": {
   "codemirror_mode": {
    "name": "ipython",
    "version": 3
   },
   "file_extension": ".py",
   "mimetype": "text/x-python",
   "name": "python",
   "nbconvert_exporter": "python",
   "pygments_lexer": "ipython3",
   "version": "3.6.3"
  }
 },
 "nbformat": 4,
 "nbformat_minor": 2
}
